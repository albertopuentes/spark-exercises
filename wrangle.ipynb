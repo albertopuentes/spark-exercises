{
 "cells": [
  {
   "cell_type": "code",
   "execution_count": 2,
   "metadata": {},
   "outputs": [],
   "source": [
    "from pyspark.sql import SparkSession\n",
    "from pyspark.sql.functions import *\n",
    "\n",
    "spark = SparkSession.builder.getOrCreate()"
   ]
  },
  {
   "cell_type": "markdown",
   "metadata": {},
   "source": [
    "# Data Acquisition"
   ]
  },
  {
   "cell_type": "markdown",
   "metadata": {},
   "source": [
    "1. Read the case, department, and source data into their own spark dataframes."
   ]
  },
  {
   "cell_type": "code",
   "execution_count": 3,
   "metadata": {},
   "outputs": [
    {
     "name": "stdout",
     "output_type": "stream",
     "text": [
      "-RECORD 0------------------------------------\n",
      " case_id              | 1014127332           \n",
      " case_opened_date     | 1/1/18 0:42          \n",
      " case_closed_date     | 1/1/18 12:29         \n",
      " SLA_due_date         | 9/26/20 0:42         \n",
      " case_late            | NO                   \n",
      " num_days_late        | -998.5087616000001   \n",
      " case_closed          | YES                  \n",
      " dept_division        | Field Operations     \n",
      " service_request_type | Stray Animal         \n",
      " SLA_days             | 999.0                \n",
      " case_status          | Closed               \n",
      " source_id            | svcCRMLS             \n",
      " request_address      | 2315  EL PASO ST,... \n",
      " council_district     | 5                    \n",
      "-RECORD 1------------------------------------\n",
      " case_id              | 1014127333           \n",
      " case_opened_date     | 1/1/18 0:46          \n",
      " case_closed_date     | 1/3/18 8:11          \n",
      " SLA_due_date         | 1/5/18 8:30          \n",
      " case_late            | NO                   \n",
      " num_days_late        | -2.0126041669999997  \n",
      " case_closed          | YES                  \n",
      " dept_division        | Storm Water          \n",
      " service_request_type | Removal Of Obstru... \n",
      " SLA_days             | 4.322222222          \n",
      " case_status          | Closed               \n",
      " source_id            | svcCRMSS             \n",
      " request_address      | 2215  GOLIAD RD, ... \n",
      " council_district     | 3                    \n",
      "only showing top 2 rows\n",
      "\n"
     ]
    }
   ],
   "source": [
    "# Case df\n",
    "case = spark.read.csv(\"case.csv\", header=True, inferSchema=True)\n",
    "case.show(2, vertical=True)"
   ]
  },
  {
   "cell_type": "code",
   "execution_count": 4,
   "metadata": {},
   "outputs": [],
   "source": [
    "# Department df\n",
    "dept = spark.read.csv(\"dept.csv\", header=True, inferSchema=True)"
   ]
  },
  {
   "cell_type": "code",
   "execution_count": 5,
   "metadata": {},
   "outputs": [],
   "source": [
    "# Source df\n",
    "source = spark.read.csv(\"source.csv\", header=True, inferSchema=True)"
   ]
  },
  {
   "cell_type": "markdown",
   "metadata": {},
   "source": [
    "2. Let's see how writing to the local disk works in spark:\n",
    "\n",
    "* Write the code necessary to store the source data in both csv and json format, store these as sources_csv and sources_json\n",
    "* Inspect your folder structure. What do you notice?"
   ]
  },
  {
   "cell_type": "code",
   "execution_count": 6,
   "metadata": {},
   "outputs": [],
   "source": [
    "# save locally as csv\n",
    "case.write.csv(\"case_csv\", mode=\"overwrite\")\n",
    "dept.write.csv(\"dept_csv\", mode=\"overwrite\")\n",
    "source.write.csv(\"source_csv\", mode=\"overwrite\")\n",
    "# save locally as json\n",
    "case.write.json(\"case_json\", mode=\"overwrite\")\n",
    "dept.write.json(\"dept_json\", mode=\"overwrite\")\n",
    "source.write.json(\"source_json\", mode=\"overwrite\")"
   ]
  },
  {
   "cell_type": "markdown",
   "metadata": {},
   "source": [
    "3. Inspect the data in your dataframes. Are the data types appropriate? Write the code necessary to cast the values to the appropriate types."
   ]
  },
  {
   "cell_type": "code",
   "execution_count": 7,
   "metadata": {},
   "outputs": [
    {
     "data": {
      "text/plain": [
       "[('case_id', 'int'),\n",
       " ('case_opened_date', 'string'),\n",
       " ('case_closed_date', 'string'),\n",
       " ('SLA_due_date', 'string'),\n",
       " ('case_late', 'string'),\n",
       " ('num_days_late', 'double'),\n",
       " ('case_closed', 'string'),\n",
       " ('dept_division', 'string'),\n",
       " ('service_request_type', 'string'),\n",
       " ('SLA_days', 'double'),\n",
       " ('case_status', 'string'),\n",
       " ('source_id', 'string'),\n",
       " ('request_address', 'string'),\n",
       " ('council_district', 'int')]"
      ]
     },
     "execution_count": 7,
     "metadata": {},
     "output_type": "execute_result"
    }
   ],
   "source": [
    "case.dtypes"
   ]
  },
  {
   "cell_type": "code",
   "execution_count": 8,
   "metadata": {},
   "outputs": [
    {
     "data": {
      "text/plain": [
       "[('dept_division', 'string'),\n",
       " ('dept_name', 'string'),\n",
       " ('standardized_dept_name', 'string'),\n",
       " ('dept_subject_to_SLA', 'string')]"
      ]
     },
     "execution_count": 8,
     "metadata": {},
     "output_type": "execute_result"
    }
   ],
   "source": [
    "dept.dtypes"
   ]
  },
  {
   "cell_type": "code",
   "execution_count": 9,
   "metadata": {},
   "outputs": [
    {
     "data": {
      "text/plain": [
       "[('source_id', 'string'), ('source_username', 'string')]"
      ]
     },
     "execution_count": 9,
     "metadata": {},
     "output_type": "execute_result"
    }
   ],
   "source": [
    "source.dtypes"
   ]
  },
  {
   "cell_type": "code",
   "execution_count": 10,
   "metadata": {},
   "outputs": [
    {
     "name": "stdout",
     "output_type": "stream",
     "text": [
      "-RECORD 0------------------------------------\n",
      " case_id              | 1014127332           \n",
      " case_opened_date     | 1/1/18 0:42          \n",
      " case_closed_date     | 1/1/18 12:29         \n",
      " SLA_due_date         | 9/26/20 0:42         \n",
      " case_late            | NO                   \n",
      " num_days_late        | -998.5087616000001   \n",
      " case_closed          | YES                  \n",
      " dept_division        | Field Operations     \n",
      " service_request_type | Stray Animal         \n",
      " SLA_days             | 999.0                \n",
      " case_status          | Closed               \n",
      " source_id            | svcCRMLS             \n",
      " request_address      | 2315  EL PASO ST,... \n",
      " council_district     | 5                    \n",
      "only showing top 1 row\n",
      "\n"
     ]
    }
   ],
   "source": [
    "case.show(1, vertical=True)"
   ]
  },
  {
   "cell_type": "code",
   "execution_count": 11,
   "metadata": {},
   "outputs": [],
   "source": [
    "# convert string dates to datetime"
   ]
  },
  {
   "cell_type": "code",
   "execution_count": 12,
   "metadata": {},
   "outputs": [
    {
     "name": "stdout",
     "output_type": "stream",
     "text": [
      "-RECORD 0------------------------------------\n",
      " case_id              | 1014127332           \n",
      " case_opened_date     | 2018-01-01 00:42:00  \n",
      " case_closed_date     | 2018-01-01 12:29:00  \n",
      " SLA_due_date         | 2020-09-26 00:42:00  \n",
      " case_late            | NO                   \n",
      " num_days_late        | -998.5087616000001   \n",
      " case_closed          | YES                  \n",
      " dept_division        | Field Operations     \n",
      " service_request_type | Stray Animal         \n",
      " SLA_days             | 999.0                \n",
      " case_status          | Closed               \n",
      " source_id            | svcCRMLS             \n",
      " request_address      | 2315  EL PASO ST,... \n",
      " council_district     | 5                    \n",
      "-RECORD 1------------------------------------\n",
      " case_id              | 1014127333           \n",
      " case_opened_date     | 2018-01-01 00:46:00  \n",
      " case_closed_date     | 2018-01-03 08:11:00  \n",
      " SLA_due_date         | 2018-01-05 08:30:00  \n",
      " case_late            | NO                   \n",
      " num_days_late        | -2.0126041669999997  \n",
      " case_closed          | YES                  \n",
      " dept_division        | Storm Water          \n",
      " service_request_type | Removal Of Obstru... \n",
      " SLA_days             | 4.322222222          \n",
      " case_status          | Closed               \n",
      " source_id            | svcCRMSS             \n",
      " request_address      | 2215  GOLIAD RD, ... \n",
      " council_district     | 3                    \n",
      "only showing top 2 rows\n",
      "\n"
     ]
    }
   ],
   "source": [
    "case = case.withColumn('case_opened_date', to_timestamp('case_opened_date', \"M/d/yy H:mm\"))\\\n",
    ".withColumn('case_closed_date', to_timestamp('case_closed_date', \"M/d/yy H:mm\"))\\\n",
    ".withColumn('SLA_due_date', to_timestamp('SLA_due_date', \"M/d/yy H:mm\"))\n",
    "case.show(2, vertical = True)"
   ]
  },
  {
   "cell_type": "markdown",
   "metadata": {},
   "source": [
    "# Questions"
   ]
  },
  {
   "cell_type": "markdown",
   "metadata": {},
   "source": [
    "1. How old is the latest (in terms of days past SLA) currently open issue? How long has the oldest (in terms of days since opened) currently opened issue been open?"
   ]
  },
  {
   "cell_type": "code",
   "execution_count": 87,
   "metadata": {},
   "outputs": [],
   "source": [
    "case = (\n",
    "    case.withColumn(\"case_age\", datediff(current_timestamp(), \"case_opened_date\"))\n",
    "    .withColumn(\"case_age_SLA\", datediff(current_timestamp(), \"SLA_due_date\"))\n",
    ")"
   ]
  },
  {
   "cell_type": "code",
   "execution_count": 88,
   "metadata": {},
   "outputs": [
    {
     "name": "stdout",
     "output_type": "stream",
     "text": [
      "-RECORD 0------------------------------------\n",
      " case_id              | 1014127332           \n",
      " case_opened_date     | 2018-01-01 00:42:00  \n",
      " case_closed_date     | 2018-01-01 12:29:00  \n",
      " SLA_due_date         | 2020-09-26 00:42:00  \n",
      " case_late            | NO                   \n",
      " num_days_late        | -998.5087616000001   \n",
      " case_closed          | YES                  \n",
      " dept_division        | Field Operations     \n",
      " service_request_type | Stray Animal         \n",
      " SLA_days             | 999.0                \n",
      " case_status          | Closed               \n",
      " source_id            | svcCRMLS             \n",
      " request_address      | 2315  EL PASO ST,... \n",
      " council_district     | 5                    \n",
      " case_age             | 1318                 \n",
      " late_SLA             | 319                  \n",
      " case_age_SLA         | 319                  \n",
      "only showing top 1 row\n",
      "\n"
     ]
    }
   ],
   "source": [
    "case.show(1, vertical=True)"
   ]
  },
  {
   "cell_type": "code",
   "execution_count": 89,
   "metadata": {},
   "outputs": [
    {
     "name": "stdout",
     "output_type": "stream",
     "text": [
      "-RECORD 0------------------------------------\n",
      " case_id              | 1013225646           \n",
      " case_opened_date     | 2017-01-01 13:48:00  \n",
      " case_closed_date     | null                 \n",
      " SLA_due_date         | 2017-01-17 08:30:00  \n",
      " case_late            | YES                  \n",
      " num_days_late        | 348.6458333          \n",
      " case_closed          | NO                   \n",
      " dept_division        | Code Enforcement     \n",
      " service_request_type | No Address Posted    \n",
      " SLA_days             | 15.77859954          \n",
      " case_status          | Open                 \n",
      " source_id            | svcCRMSS             \n",
      " request_address      | 7299  SHADOW RIDG... \n",
      " council_district     | 6                    \n",
      " case_age             | 1683                 \n",
      " late_SLA             | 1667                 \n",
      " case_age_SLA         | 1667                 \n",
      "only showing top 1 row\n",
      "\n"
     ]
    }
   ],
   "source": [
    "# The oldest currently open issue with regards to SLA = 1667 days\n",
    "(\n",
    "case\n",
    ".filter(case.case_closed == 'NO')\n",
    ".sort(col(\"case_age_SLA\").desc())\n",
    ".show(1, vertical=True)\n",
    "    )"
   ]
  },
  {
   "cell_type": "code",
   "execution_count": 53,
   "metadata": {},
   "outputs": [
    {
     "name": "stdout",
     "output_type": "stream",
     "text": [
      "-RECORD 0------------------------------------\n",
      " case_id              | 1013225646           \n",
      " case_opened_date     | 2017-01-01 13:48:00  \n",
      " case_closed_date     | null                 \n",
      " SLA_due_date         | 2017-01-17 08:30:00  \n",
      " case_late            | YES                  \n",
      " num_days_late        | 348.6458333          \n",
      " case_closed          | NO                   \n",
      " dept_division        | Code Enforcement     \n",
      " service_request_type | No Address Posted    \n",
      " SLA_days             | 15.77859954          \n",
      " case_status          | Open                 \n",
      " source_id            | svcCRMSS             \n",
      " request_address      | 7299  SHADOW RIDG... \n",
      " council_district     | 6                    \n",
      " case_age             | 1683                 \n",
      "only showing top 1 row\n",
      "\n"
     ]
    }
   ],
   "source": [
    "# The oldest currently open issue with regards to open = 1683 days\n",
    "(\n",
    "case\n",
    ".filter(case.case_closed == 'NO')\n",
    ".sort(col(\"case_age\").desc())\n",
    ".show(1, vertical=True)\n",
    "    )"
   ]
  },
  {
   "cell_type": "markdown",
   "metadata": {},
   "source": [
    "2. How many Stray Animal cases are there?"
   ]
  },
  {
   "cell_type": "code",
   "execution_count": 54,
   "metadata": {},
   "outputs": [
    {
     "name": "stdout",
     "output_type": "stream",
     "text": [
      "-RECORD 0----------------------------\n",
      " count(service_request_type) | 26760 \n",
      "\n"
     ]
    }
   ],
   "source": [
    "(\n",
    "case\n",
    ".filter(case.service_request_type == 'Stray Animal')\n",
    ".agg(count('service_request_type'))\n",
    ".sort(col(\"count(service_request_type)\").desc())\n",
    ".show(3, vertical=True)\n",
    "    )"
   ]
  },
  {
   "cell_type": "markdown",
   "metadata": {},
   "source": [
    "3. How many service requests that are assigned to the Field Operations department (dept_division) are not classified as \"Officer Standby\" request type (service_request_type)?"
   ]
  },
  {
   "cell_type": "code",
   "execution_count": 55,
   "metadata": {},
   "outputs": [
    {
     "name": "stdout",
     "output_type": "stream",
     "text": [
      "-RECORD 0--------------------------------\n",
      " dept_division        | Field Operations \n",
      " count(dept_division) | 116915           \n",
      "\n"
     ]
    }
   ],
   "source": [
    "(\n",
    "case\n",
    ".filter(case.dept_division == 'Field Operations')\n",
    ".groupby('dept_division')\n",
    ".agg(count('dept_division'))\n",
    ".show(3, vertical=True)\n",
    "    )"
   ]
  },
  {
   "cell_type": "markdown",
   "metadata": {},
   "source": [
    "4. Convert the council_district column to a string column."
   ]
  },
  {
   "cell_type": "code",
   "execution_count": 56,
   "metadata": {},
   "outputs": [],
   "source": [
    "case = case.withColumn(\"council_district\", col(\"council_district\").cast(\"string\"))"
   ]
  },
  {
   "cell_type": "code",
   "execution_count": 57,
   "metadata": {},
   "outputs": [
    {
     "data": {
      "text/plain": [
       "[('case_id', 'int'),\n",
       " ('case_opened_date', 'timestamp'),\n",
       " ('case_closed_date', 'timestamp'),\n",
       " ('SLA_due_date', 'timestamp'),\n",
       " ('case_late', 'string'),\n",
       " ('num_days_late', 'double'),\n",
       " ('case_closed', 'string'),\n",
       " ('dept_division', 'string'),\n",
       " ('service_request_type', 'string'),\n",
       " ('SLA_days', 'double'),\n",
       " ('case_status', 'string'),\n",
       " ('source_id', 'string'),\n",
       " ('request_address', 'string'),\n",
       " ('council_district', 'string'),\n",
       " ('case_age', 'int')]"
      ]
     },
     "execution_count": 57,
     "metadata": {},
     "output_type": "execute_result"
    }
   ],
   "source": [
    "case.dtypes"
   ]
  },
  {
   "cell_type": "markdown",
   "metadata": {},
   "source": [
    "5. Extract the year from the case_closed_date column."
   ]
  },
  {
   "cell_type": "code",
   "execution_count": 58,
   "metadata": {},
   "outputs": [
    {
     "name": "stdout",
     "output_type": "stream",
     "text": [
      "-RECORD 0------------------------------------\n",
      " case_id              | 1014127332           \n",
      " case_opened_date     | 2018-01-01 00:42:00  \n",
      " case_closed_date     | 2018-01-01 12:29:00  \n",
      " SLA_due_date         | 2020-09-26 00:42:00  \n",
      " case_late            | NO                   \n",
      " num_days_late        | -998.5087616000001   \n",
      " case_closed          | YES                  \n",
      " dept_division        | Field Operations     \n",
      " service_request_type | Stray Animal         \n",
      " SLA_days             | 999.0                \n",
      " case_status          | Closed               \n",
      " source_id            | svcCRMLS             \n",
      " request_address      | 2315  EL PASO ST,... \n",
      " council_district     | 5                    \n",
      " case_age             | 1318                 \n",
      " year                 | 2018                 \n",
      "only showing top 1 row\n",
      "\n"
     ]
    }
   ],
   "source": [
    "(\n",
    "case.withColumn(\"year\", year(\"case_closed_date\")).show(1, vertical=True)\n",
    ")"
   ]
  },
  {
   "cell_type": "markdown",
   "metadata": {},
   "source": [
    "6. Convert num_days_late from days to hours in new columns num_hours_late."
   ]
  },
  {
   "cell_type": "code",
   "execution_count": 59,
   "metadata": {},
   "outputs": [
    {
     "name": "stdout",
     "output_type": "stream",
     "text": [
      "-RECORD 0------------------------------------\n",
      " case_id              | 1014127332           \n",
      " case_opened_date     | 2018-01-01 00:42:00  \n",
      " case_closed_date     | 2018-01-01 12:29:00  \n",
      " SLA_due_date         | 2020-09-26 00:42:00  \n",
      " case_late            | NO                   \n",
      " num_days_late        | -998.5087616000001   \n",
      " case_closed          | YES                  \n",
      " dept_division        | Field Operations     \n",
      " service_request_type | Stray Animal         \n",
      " SLA_days             | 999.0                \n",
      " case_status          | Closed               \n",
      " source_id            | svcCRMLS             \n",
      " request_address      | 2315  EL PASO ST,... \n",
      " council_district     | 5                    \n",
      " case_age             | 1318                 \n",
      " num_hours_late       | -23964.2102784       \n",
      "-RECORD 1------------------------------------\n",
      " case_id              | 1014127333           \n",
      " case_opened_date     | 2018-01-01 00:46:00  \n",
      " case_closed_date     | 2018-01-03 08:11:00  \n",
      " SLA_due_date         | 2018-01-05 08:30:00  \n",
      " case_late            | NO                   \n",
      " num_days_late        | -2.0126041669999997  \n",
      " case_closed          | YES                  \n",
      " dept_division        | Storm Water          \n",
      " service_request_type | Removal Of Obstru... \n",
      " SLA_days             | 4.322222222          \n",
      " case_status          | Closed               \n",
      " source_id            | svcCRMSS             \n",
      " request_address      | 2215  GOLIAD RD, ... \n",
      " council_district     | 3                    \n",
      " case_age             | 1318                 \n",
      " num_hours_late       | -48.302500007999996  \n",
      "only showing top 2 rows\n",
      "\n"
     ]
    }
   ],
   "source": [
    "case.withColumn(\"num_hours_late\", expr(\"num_days_late * 24\")).show(2, vertical=True)"
   ]
  },
  {
   "cell_type": "markdown",
   "metadata": {},
   "source": [
    "7. Join the case data with the source and department data."
   ]
  },
  {
   "cell_type": "code",
   "execution_count": 60,
   "metadata": {},
   "outputs": [
    {
     "name": "stdout",
     "output_type": "stream",
     "text": [
      "-RECORD 0---------------------------\n",
      " source_id       | 100137           \n",
      " source_username | Merlene Blodgett \n",
      "only showing top 1 row\n",
      "\n"
     ]
    }
   ],
   "source": [
    "source.show(1, vertical=True)"
   ]
  },
  {
   "cell_type": "code",
   "execution_count": 61,
   "metadata": {},
   "outputs": [
    {
     "name": "stdout",
     "output_type": "stream",
     "text": [
      "-RECORD 0----------------------------------\n",
      " dept_division          | 311 Call Center  \n",
      " dept_name              | Customer Service \n",
      " standardized_dept_name | Customer Service \n",
      " dept_subject_to_SLA    | YES              \n",
      "only showing top 1 row\n",
      "\n"
     ]
    }
   ],
   "source": [
    "dept.show(1, vertical=True)"
   ]
  },
  {
   "cell_type": "code",
   "execution_count": 62,
   "metadata": {},
   "outputs": [],
   "source": [
    "merged = (\n",
    "    case\n",
    "    # left join on dept_division\n",
    "    .join(dept, \"dept_division\", \"left\")\n",
    "    # drop all the columns except for standardized name, as it has much fewer unique values\n",
    "    .drop(dept.dept_division)\n",
    "    .drop(dept.dept_name)\n",
    "    .drop(case.dept_division)\n",
    "    .withColumnRenamed(\"standardized_dept_name\", \"department\")\n",
    "    # left join source on source_id\n",
    "    .join(source, 'source_id', 'left')\n",
    ")"
   ]
  },
  {
   "cell_type": "code",
   "execution_count": 63,
   "metadata": {},
   "outputs": [
    {
     "name": "stdout",
     "output_type": "stream",
     "text": [
      "-RECORD 0------------------------------------\n",
      " source_id            | svcCRMLS             \n",
      " case_id              | 1014127332           \n",
      " case_opened_date     | 2018-01-01 00:42:00  \n",
      " case_closed_date     | 2018-01-01 12:29:00  \n",
      " SLA_due_date         | 2020-09-26 00:42:00  \n",
      " case_late            | NO                   \n",
      " num_days_late        | -998.5087616000001   \n",
      " case_closed          | YES                  \n",
      " service_request_type | Stray Animal         \n",
      " SLA_days             | 999.0                \n",
      " case_status          | Closed               \n",
      " request_address      | 2315  EL PASO ST,... \n",
      " council_district     | 5                    \n",
      " case_age             | 1318                 \n",
      " department           | Animal Care Services \n",
      " dept_subject_to_SLA  | YES                  \n",
      " source_username      | svcCRMLS             \n",
      "-RECORD 1------------------------------------\n",
      " source_id            | svcCRMSS             \n",
      " case_id              | 1014127333           \n",
      " case_opened_date     | 2018-01-01 00:46:00  \n",
      " case_closed_date     | 2018-01-03 08:11:00  \n",
      " SLA_due_date         | 2018-01-05 08:30:00  \n",
      " case_late            | NO                   \n",
      " num_days_late        | -2.0126041669999997  \n",
      " case_closed          | YES                  \n",
      " service_request_type | Removal Of Obstru... \n",
      " SLA_days             | 4.322222222          \n",
      " case_status          | Closed               \n",
      " request_address      | 2215  GOLIAD RD, ... \n",
      " council_district     | 3                    \n",
      " case_age             | 1318                 \n",
      " department           | Trans & Cap Impro... \n",
      " dept_subject_to_SLA  | YES                  \n",
      " source_username      | svcCRMSS             \n",
      "only showing top 2 rows\n",
      "\n"
     ]
    }
   ],
   "source": [
    "merged.show(2, vertical=True)"
   ]
  },
  {
   "cell_type": "markdown",
   "metadata": {},
   "source": [
    "8. Are there any cases that do not have a request source?"
   ]
  },
  {
   "cell_type": "code",
   "execution_count": 66,
   "metadata": {},
   "outputs": [
    {
     "name": "stdout",
     "output_type": "stream",
     "text": [
      "(0 rows)\n",
      "\n"
     ]
    }
   ],
   "source": [
    "# NO\n",
    "case.filter(\"source_id is null\").show(vertical=True)"
   ]
  },
  {
   "cell_type": "markdown",
   "metadata": {},
   "source": [
    "9. What are the top 10 service request types in terms of number of requests?"
   ]
  },
  {
   "cell_type": "code",
   "execution_count": 135,
   "metadata": {},
   "outputs": [
    {
     "name": "stdout",
     "output_type": "stream",
     "text": [
      "-RECORD 0-------------------------------------------\n",
      " service_request_type        | No Pickup            \n",
      " count(service_request_type) | 86855                \n",
      "-RECORD 1-------------------------------------------\n",
      " service_request_type        | Overgrown Yard/Trash \n",
      " count(service_request_type) | 65895                \n",
      "-RECORD 2-------------------------------------------\n",
      " service_request_type        | Bandit Signs         \n",
      " count(service_request_type) | 32910                \n",
      "-RECORD 3-------------------------------------------\n",
      " service_request_type        | Damaged Cart         \n",
      " count(service_request_type) | 30338                \n",
      "-RECORD 4-------------------------------------------\n",
      " service_request_type        | Front Or Side Yar... \n",
      " count(service_request_type) | 28794                \n",
      "-RECORD 5-------------------------------------------\n",
      " service_request_type        | Stray Animal         \n",
      " count(service_request_type) | 26760                \n",
      "-RECORD 6-------------------------------------------\n",
      " service_request_type        | Aggressive Animal... \n",
      " count(service_request_type) | 24882                \n",
      "-RECORD 7-------------------------------------------\n",
      " service_request_type        | Cart Exchange Req... \n",
      " count(service_request_type) | 22024                \n",
      "-RECORD 8-------------------------------------------\n",
      " service_request_type        | Junk Vehicle On P... \n",
      " count(service_request_type) | 21473                \n",
      "-RECORD 9-------------------------------------------\n",
      " service_request_type        | Pot Hole Repair      \n",
      " count(service_request_type) | 20616                \n",
      "only showing top 10 rows\n",
      "\n"
     ]
    }
   ],
   "source": [
    "(\n",
    "case\n",
    ".groupby('service_request_type')\n",
    ".agg(count('service_request_type'))\n",
    ".sort(col('count(service_request_type)').desc())\n",
    ".show(10, vertical=True)\n",
    "        )"
   ]
  },
  {
   "cell_type": "code",
   "execution_count": 69,
   "metadata": {},
   "outputs": [
    {
     "name": "stdout",
     "output_type": "stream",
     "text": [
      "+--------------------+-----+\n",
      "|service_request_type|count|\n",
      "+--------------------+-----+\n",
      "|           No Pickup|86855|\n",
      "|Overgrown Yard/Trash|65895|\n",
      "|        Bandit Signs|32910|\n",
      "|        Damaged Cart|30338|\n",
      "|Front Or Side Yar...|28794|\n",
      "|        Stray Animal|26760|\n",
      "|Aggressive Animal...|24882|\n",
      "|Cart Exchange Req...|22024|\n",
      "|Junk Vehicle On P...|21473|\n",
      "|     Pot Hole Repair|20616|\n",
      "+--------------------+-----+\n",
      "only showing top 10 rows\n",
      "\n"
     ]
    }
   ],
   "source": [
    "case.groupby('service_request_type').count().sort(col('count').desc()).show(10)"
   ]
  },
  {
   "cell_type": "markdown",
   "metadata": {},
   "source": [
    "10. What are the top 10 service request types in terms of average days late?"
   ]
  },
  {
   "cell_type": "code",
   "execution_count": 72,
   "metadata": {},
   "outputs": [
    {
     "name": "stdout",
     "output_type": "stream",
     "text": [
      "+--------------------------------------+------------------+\n",
      "|service_request_type                  |avg(num_days_late)|\n",
      "+--------------------------------------+------------------+\n",
      "|Zoning: Recycle Yard                  |210.89201994318182|\n",
      "|Zoning: Junk Yards                    |200.20517608494276|\n",
      "|Structure/Housing Maintenance         |190.20707698509807|\n",
      "|Donation Container Enforcement        |171.09115313942615|\n",
      "|Storage of Used Mattress              |163.96812829714287|\n",
      "|Labeling for Used Mattress            |162.43032902285717|\n",
      "|Record Keeping of Used Mattresses     |153.99724039428568|\n",
      "|Signage Requied for Sale of Used Mattr|151.63868055333333|\n",
      "|Traffic Signal Graffiti               |137.64583330000002|\n",
      "|License Requied Used Mattress Sales   |128.79828704142858|\n",
      "+--------------------------------------+------------------+\n",
      "only showing top 10 rows\n",
      "\n"
     ]
    }
   ],
   "source": [
    "case.where('case_late==\"YES\"')\\\n",
    ".groupBy('service_request_type')\\\n",
    ".agg(mean('num_days_late'))\\\n",
    ".sort(desc('avg(num_days_late)'))\\\n",
    ".show(10, truncate=False)"
   ]
  },
  {
   "cell_type": "markdown",
   "metadata": {},
   "source": [
    "11. Does number of days late depend on department?"
   ]
  },
  {
   "cell_type": "code",
   "execution_count": 90,
   "metadata": {},
   "outputs": [
    {
     "name": "stdout",
     "output_type": "stream",
     "text": [
      "-RECORD 0------------------------------------\n",
      " case_id              | 1014127332           \n",
      " case_opened_date     | 2018-01-01 00:42:00  \n",
      " case_closed_date     | 2018-01-01 12:29:00  \n",
      " SLA_due_date         | 2020-09-26 00:42:00  \n",
      " case_late            | NO                   \n",
      " num_days_late        | -998.5087616000001   \n",
      " case_closed          | YES                  \n",
      " dept_division        | Field Operations     \n",
      " service_request_type | Stray Animal         \n",
      " SLA_days             | 999.0                \n",
      " case_status          | Closed               \n",
      " source_id            | svcCRMLS             \n",
      " request_address      | 2315  EL PASO ST,... \n",
      " council_district     | 5                    \n",
      " case_age             | 1318                 \n",
      " late_SLA             | 319                  \n",
      " case_age_SLA         | 319                  \n",
      "only showing top 1 row\n",
      "\n"
     ]
    }
   ],
   "source": [
    "case.show(1, vertical=True)"
   ]
  },
  {
   "cell_type": "code",
   "execution_count": 93,
   "metadata": {},
   "outputs": [
    {
     "name": "stdout",
     "output_type": "stream",
     "text": [
      "+-----------------------------+------------------+\n",
      "|dept_division                |avg(num_days_late)|\n",
      "+-----------------------------+------------------+\n",
      "|Code Enforcement (Internal)  |210.89201994318182|\n",
      "|311 Call Center              |87.68385942150394 |\n",
      "|Shops                        |76.87018194568    |\n",
      "|Code Enforcement (IntExp)    |76.41362019978536 |\n",
      "|Director's Office Horizontal |76.07892152387127 |\n",
      "|Engineering Division         |67.31528481452672 |\n",
      "|Reservations                 |66.03116319       |\n",
      "|Dangerous Premise            |56.045185022438   |\n",
      "|Code Enforcement             |48.6743311339552  |\n",
      "|Tree Crew                    |33.85895311389411 |\n",
      "|Dangerous Premise (IntExp)   |26.794363426666667|\n",
      "|Trades                       |24.36677159238625 |\n",
      "|Graffiti (IntExp)            |24.28088208908296 |\n",
      "|Field Operations             |23.458633245820124|\n",
      "|Shops (Internal)             |20.631614157630324|\n",
      "|Clean and Green Natural Areas|13.450237682142857|\n",
      "|Solid Waste                  |13.22888506561607 |\n",
      "|Graffiti                     |12.981636342874538|\n",
      "|Food Establishments          |9.936127374364965 |\n",
      "|Clean and Green              |9.295087744500002 |\n",
      "+-----------------------------+------------------+\n",
      "only showing top 20 rows\n",
      "\n"
     ]
    }
   ],
   "source": [
    "# YES\n",
    "(\n",
    "case.where('case_late==\"YES\"')\n",
    ".groupBy('dept_division')\n",
    ".agg(mean('num_days_late'))\\\n",
    ".sort(desc('avg(num_days_late)'))\\\n",
    ".show(truncate=False)\n",
    ")"
   ]
  },
  {
   "cell_type": "markdown",
   "metadata": {},
   "source": [
    "12. How do number of days late depend on department and request type?"
   ]
  },
  {
   "cell_type": "code",
   "execution_count": 96,
   "metadata": {},
   "outputs": [
    {
     "name": "stdout",
     "output_type": "stream",
     "text": [
      "+---------------------------+----------------------------------------+------------------+\n",
      "|dept_division              |service_request_type                    |avg(num_days_late)|\n",
      "+---------------------------+----------------------------------------+------------------+\n",
      "|Code Enforcement (Internal)|Zoning: Recycle Yard                    |210.89201994318182|\n",
      "|Code Enforcement           |Zoning: Junk Yards                      |200.20517608494276|\n",
      "|Code Enforcement           |Structure/Housing Maintenance           |190.20707698509807|\n",
      "|Code Enforcement           |Donation Container Enforcement          |171.09115313942615|\n",
      "|Code Enforcement (IntExp)  |Storage of Used Mattress                |163.96812829714287|\n",
      "|Code Enforcement (IntExp)  |Labeling for Used Mattress              |162.43032902285717|\n",
      "|Code Enforcement (IntExp)  |Record Keeping of Used Mattresses       |153.99724039428568|\n",
      "|Code Enforcement (IntExp)  |Signage Requied for Sale of Used Mattr  |151.63868055333333|\n",
      "|Signals                    |Traffic Signal Graffiti                 |137.64583330000002|\n",
      "|Code Enforcement (IntExp)  |Bandit Signs                            |129.86148974857142|\n",
      "|Code Enforcement (IntExp)  |License Requied Used Mattress Sales     |128.79828704142858|\n",
      "|Code Enforcement (IntExp)  |Used Mattress Inspection                |124.2719034853846 |\n",
      "|Code Enforcement           |Curbstoning                             |120.39566479917886|\n",
      "|Code Enforcement           |Vendors                                 |117.72551367776335|\n",
      "|Graffiti (IntExp)          |CPS Energy Wood Poles                   |115.18708329999998|\n",
      "|Graffiti                   |Graffiti: Private Property (Corridors)  |114.09439580800002|\n",
      "|Dangerous Premise          |DSDB Ordered/Hold Harmless/Regular: Main|94.9029600898138  |\n",
      "|Dangerous Premise          |DSDB Ordered/Hold Harmless/Regular-ALL  |90.60137650743478 |\n",
      "|Dangerous Premise          |DSDB Ordered/Hold Harmless/Regular: ASEC|88.67873591760812 |\n",
      "|311 Call Center            |Complaint                               |87.74197415340986 |\n",
      "+---------------------------+----------------------------------------+------------------+\n",
      "only showing top 20 rows\n",
      "\n"
     ]
    }
   ],
   "source": [
    "case.where('case_late==\"YES\"')\\\n",
    ".groupBy('dept_division', 'service_request_type')\\\n",
    ".agg(mean('num_days_late'))\\\n",
    ".sort(desc('avg(num_days_late)'))\\\n",
    ".show(truncate=False)\n"
   ]
  },
  {
   "cell_type": "code",
   "execution_count": null,
   "metadata": {},
   "outputs": [],
   "source": []
  }
 ],
 "metadata": {
  "kernelspec": {
   "display_name": "Python 3",
   "language": "python",
   "name": "python3"
  },
  "language_info": {
   "codemirror_mode": {
    "name": "ipython",
    "version": 3
   },
   "file_extension": ".py",
   "mimetype": "text/x-python",
   "name": "python",
   "nbconvert_exporter": "python",
   "pygments_lexer": "ipython3",
   "version": "3.8.5"
  }
 },
 "nbformat": 4,
 "nbformat_minor": 4
}
